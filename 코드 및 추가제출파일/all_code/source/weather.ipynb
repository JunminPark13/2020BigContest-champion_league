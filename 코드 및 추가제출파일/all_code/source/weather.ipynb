{
 "cells": [
  {
   "cell_type": "code",
   "execution_count": 78,
   "metadata": {},
   "outputs": [],
   "source": [
    "import pandas as pd\n",
    "import numpy as np\n",
    "import os"
   ]
  },
  {
   "cell_type": "code",
   "execution_count": 79,
   "metadata": {},
   "outputs": [],
   "source": [
    "cur_dir = os.getcwd()\n",
    "source_dir = os.path.join(cur_dir, 'source')"
   ]
  },
  {
   "cell_type": "code",
   "execution_count": 80,
   "metadata": {},
   "outputs": [],
   "source": [
    "dfs_weather_2019_path = 'weather_2019.csv'\n",
    "dfs_weather_2020_path = 'weather_2020.csv'"
   ]
  },
  {
   "cell_type": "code",
   "execution_count": 81,
   "metadata": {},
   "outputs": [],
   "source": [
    "dfs_weather_2019_path = os.path.join(cur_dir, source_dir, dfs_weather_2019_path)\n",
    "dfs_weather_2020_path = os.path.join(cur_dir, source_dir, dfs_weather_2020_path)"
   ]
  },
  {
   "cell_type": "code",
   "execution_count": 82,
   "metadata": {},
   "outputs": [],
   "source": [
    "w_train = pd.read_csv(dfs_weather_2019_path, encoding='euc-kr')\n",
    "w_test = pd.read_csv(dfs_weather_2020_path, encoding='euc-kr')"
   ]
  },
  {
   "cell_type": "code",
   "execution_count": 83,
   "metadata": {},
   "outputs": [],
   "source": [
    "valid_col = ['지점', '지점명', '일시', '기온(°C)', '강수량(mm)', '풍속(m/s)', '풍향(16방위)', '습도(%)',\n",
    "       '증기압(hPa)', '현지기압(hPa)', '해면기압(hPa)', '적설(cm)']"
   ]
  },
  {
   "cell_type": "code",
   "execution_count": 84,
   "metadata": {},
   "outputs": [],
   "source": [
    "w_train = w_train[valid_col].copy()\n",
    "w_test = w_test[valid_col].copy()"
   ]
  },
  {
   "cell_type": "code",
   "execution_count": 85,
   "metadata": {},
   "outputs": [
    {
     "name": "stdout",
     "output_type": "stream",
     "text": [
      "(8784, 12)\n",
      "(720, 12)\n"
     ]
    }
   ],
   "source": [
    "print(w_train.shape)\n",
    "print(w_test.shape)"
   ]
  },
  {
   "cell_type": "code",
   "execution_count": 86,
   "metadata": {},
   "outputs": [],
   "source": [
    "w_train['풍속(m/s)'] = w_train['풍속(m/s)'].fillna(method='pad')\n",
    "w_train['풍향(16방위)'] = w_train['풍향(16방위)'].fillna(method='pad')"
   ]
  },
  {
   "cell_type": "code",
   "execution_count": 87,
   "metadata": {
    "scrolled": true
   },
   "outputs": [],
   "source": [
    "w_train = w_train.fillna(0.0).copy()\n",
    "w_test = w_test.fillna(0.0).copy()"
   ]
  },
  {
   "cell_type": "code",
   "execution_count": 88,
   "metadata": {},
   "outputs": [],
   "source": [
    "w_train['일시'] = pd.to_datetime(w_train['일시'], format='%Y-%m-%d %H:%M')\n",
    "w_test['일시'] = pd.to_datetime(w_test['일시'], format='%Y-%m-%d %H:%M')"
   ]
  },
  {
   "cell_type": "code",
   "execution_count": 89,
   "metadata": {},
   "outputs": [],
   "source": [
    "w_train[\"year\"] = w_train[\"일시\"].dt.year\n",
    "w_train[\"month\"] = w_train[\"일시\"].dt.month\n",
    "w_train[\"day\"] = w_train[\"일시\"].dt.day\n",
    "w_train[\"hour\"] = w_train[\"일시\"].dt.hour\n",
    "\n",
    "w_test[\"year\"] = w_test[\"일시\"].dt.year\n",
    "w_test[\"month\"] = w_test[\"일시\"].dt.month\n",
    "w_test[\"day\"] = w_test[\"일시\"].dt.day\n",
    "w_test[\"hour\"] = w_test[\"일시\"].dt.hour"
   ]
  },
  {
   "cell_type": "code",
   "execution_count": 90,
   "metadata": {},
   "outputs": [
    {
     "data": {
      "text/plain": [
       "'C:\\\\Users\\\\Choi\\\\Desktop\\\\big_contest\\\\source'"
      ]
     },
     "execution_count": 90,
     "metadata": {},
     "output_type": "execute_result"
    }
   ],
   "source": [
    "source_dir"
   ]
  },
  {
   "cell_type": "code",
   "execution_count": 91,
   "metadata": {},
   "outputs": [],
   "source": [
    "w_train.to_csv(os.path.join(source_dir, 'w_train.csv'), encoding='euc_kr', index=False)\n",
    "w_test.to_csv(os.path.join(source_dir, 'w_test.csv'), encoding='euc_kr', index=False)"
   ]
  },
  {
   "cell_type": "code",
   "execution_count": null,
   "metadata": {},
   "outputs": [],
   "source": []
  }
 ],
 "metadata": {
  "kernelspec": {
   "display_name": "Python 3",
   "language": "python",
   "name": "python3"
  },
  "language_info": {
   "codemirror_mode": {
    "name": "ipython",
    "version": 3
   },
   "file_extension": ".py",
   "mimetype": "text/x-python",
   "name": "python",
   "nbconvert_exporter": "python",
   "pygments_lexer": "ipython3",
   "version": "3.7.4"
  }
 },
 "nbformat": 4,
 "nbformat_minor": 4
}
