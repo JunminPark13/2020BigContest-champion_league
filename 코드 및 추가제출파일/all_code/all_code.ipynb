{
 "cells": [
  {
   "cell_type": "markdown",
   "metadata": {},
   "source": [
    "## Setup"
   ]
  },
  {
   "cell_type": "code",
   "execution_count": 1,
   "metadata": {},
   "outputs": [],
   "source": [
    "import warnings\n",
    "warnings.filterwarnings(\"ignore\")\n",
    "\n",
    "import os\n",
    "import datetime\n",
    "import numpy as np\n",
    "import pandas as pd\n",
    "pd.set_option('display.max_columns', None)\n",
    "\n",
    "import preprocessing as preprocess\n",
    "import grouping as group\n",
    "import spliting as split\n",
    "\n",
    "import seaborn as sns\n",
    "import matplotlib.pyplot as plt\n",
    "from matplotlib import rc\n",
    "from matplotlib import font_manager\n",
    "plt.rcParams['axes.unicode_minus'] = False\n",
    "# plt.figure(figsize=(10, 5))\n",
    "\n",
    "import lightgbm as lgb\n",
    "from sklearn.pipeline import Pipeline\n",
    "from sklearn.preprocessing import StandardScaler\n",
    "from sklearn.model_selection import train_test_split\n",
    "from sklearn import metrics\n",
    "\n",
    "import catboost\n",
    "\n",
    "\n",
    "# font_path = 'C:\\\\Windows\\\\Fonts\\\\NanumBarunGothicUltraLight.ttf' #한글 폰트 경로 \n",
    "font_path = 'C:\\\\Windows\\\\Fonts\\\\malgun.ttf' #한글 폰트 경로 \n",
    "\n",
    "font_name = font_manager.FontProperties(fname=font_path).get_name()\n",
    "rc('font', family=font_name)"
   ]
  },
  {
   "cell_type": "code",
   "execution_count": 2,
   "metadata": {},
   "outputs": [],
   "source": [
    "#MAPE definition\n",
    "def mean_absolute_percentage_error(y_true, y_pred): \n",
    "    return np.mean(np.abs((y_true - y_pred) / y_true)) * 100"
   ]
  },
  {
   "cell_type": "markdown",
   "metadata": {},
   "source": [
    "## Data Load and Preprocessing\n",
    "\n",
    "`preprocessing.py`와 `grouping.py`에 전처리 코드를 넣어 원본데이터가 한번에 전처리되어 출력되도록 했습니다. 주요 전처리 내용은 다음과 같습니다. <br><br>\n",
    "\n",
    "**1. 종속변수(취급액) 가공**\n",
    "\n",
    "예측의 대상인 취급액은 판매단가에 판매량을 곱한 값으로 상품마다 scale의 차이가 큽니다. 따라서 취급액을 판매단가로 나눈 판매량이라는 변수를 새로 만들어 이를 예측하는 것이 유리합니다. 그리고 판매량의 분포가 양의 왜도를 가짐을 확인하고 이를 정규화하기 위해 로그 변환을 해주어 `log_sales_cnt`라는 변수를 생성했습니다.\n",
    "\n",
    "**2. 파생변수 생성**\n",
    "\n",
    "제공된 데이터의 변수는 8개입니다. 좋은 성능의 모델을 만들기 위해서는 유의미한 변수의 도출이 필수적입니다. EDA를 통해 변수의 특성을 파악하고 FE를 진행했습니다. 방송일시 변수를 연, 월, 일, 시, 분, 요일 등으로 나누고 공휴일 변수를 추가했습니다. 이외에도 다양한 변수를 가공해 `order_grp`나 `unit_price_group`등의 변수를 생성했습니다.\n",
    "\n",
    "**3. 외부변수 채택**\n",
    "\n",
    "주어진 변수 이외에도 판매량에 영향을 미칠 수 있는 외부변수를 채택했습니다. [기상자료개방포털](https://data.kma.go.kr/cmmn/main.do)에서 시각별 기온, 강수량, 습도 등의 기상정보를 가져왔고 [통계청](http://kostat.go.kr/portal/korea/index.action)에서 소비자 물가지수와 소비자 동향지수 데이터를 가져왔습니다. 이외에도 검색어 데이터, 뉴스 데이터도 고려했으나 양질의 데이터 획득의 어려움과 비상관성을 이유로 채택하지 않았습니다."
   ]
  },
  {
   "cell_type": "code",
   "execution_count": 3,
   "metadata": {},
   "outputs": [
    {
     "name": "stdout",
     "output_type": "stream",
     "text": [
      "Train : file already exist!\n",
      "Test : file already exist!\n"
     ]
    }
   ],
   "source": [
    "\"\"\"\"Directory\n",
    "bigcon \n",
    "  |- data\n",
    "       |- 01_제공데이터\n",
    "       |- 02_평가데이터\n",
    "       |- 03_제출데이터\n",
    "  |- source\n",
    "\"\"\"\n",
    "cur_dir = os.getcwd()\n",
    "data_dir = os.path.join(cur_dir, 'data')\n",
    "source_dir = os.path.join(cur_dir, 'source')\n",
    "data_train_dir = os.path.join(data_dir, '01_제공데이터')\n",
    "data_test_dir = os.path.join(data_dir, '02_평가데이터')\n",
    "data_submit_dir = os.path.join(data_dir, '03_제출데이터')\n",
    "\n",
    "\n",
    "\"\"\" Parameters\n",
    "\"\"\"\n",
    "headline = '2020 빅콘테스트 데이터분석분야-챔피언리그'\n",
    "train_target = '2019년 실적데이터'\n",
    "test_target = '2020년 6월 판매실적예측데이터(평가데이터)'\n",
    "rate_target = '시청률 데이터'\n",
    "\n",
    "\n",
    "\"\"\" Load Data\n",
    "\"\"\"\n",
    "dfs = preprocess.ProcessSale(\n",
    "    data_dir = data_dir,\n",
    "    source_dir = source_dir,\n",
    "    data_train_dir = data_train_dir,\n",
    "    data_test_dir = data_test_dir,\n",
    "    headline = headline,\n",
    "    train_target = train_target,\n",
    "    rate_target = rate_target,\n",
    "    test_target = test_target,\n",
    ")\n",
    "\n",
    "df_train = dfs.train_preprocess()\n",
    "df_test = dfs.test_preprocess()\n",
    "df_rate = dfs.rate_preprocess()\n",
    "\n",
    "Grouping = group.Grouping(df_train, df_test)\n",
    "df_train = Grouping.make_train()\n",
    "df_test = Grouping.make_test()"
   ]
  },
  {
   "cell_type": "code",
   "execution_count": 4,
   "metadata": {},
   "outputs": [
    {
     "name": "stdout",
     "output_type": "stream",
     "text": [
      "(35379, 32)\n",
      "(2891, 32)\n"
     ]
    }
   ],
   "source": [
    "print(df_train.shape) #제공데이터\n",
    "print(df_test.shape)  #평가데이터"
   ]
  },
  {
   "cell_type": "markdown",
   "metadata": {},
   "source": [
    "최종적으로, 전처리 된 컬럼은 다음과 같습니다.\n",
    "\n",
    "#### 기존변수\n",
    "  * **datetime** - 방송일시입니다.\n",
    "  * **exposure(min)** - 상품이 방송에 노출된 시간입니다.\n",
    "  * **mother_cd** - 상품의 마더코드입니다.\n",
    "  * **product_cd** - 상품의 상품코드입니다.\n",
    "  * **product_name** - 상품명입니다.\n",
    "  * **product_grp** - 상품군입니다.\n",
    "  * **unit_price** - 상품의 개당 판매단가입니다. \n",
    "  * **sell_price** - 상품의 총 판매액, 즉 취급액입니다.\n",
    " \n",
    "#### 파생변수\n",
    "  * **sales_cnt** -  판매량입니다. 상품의 취급액을 판매단가로 나누어 계산합니다.\n",
    "  * **log_sales_cnt** -  판매량에 로그를 취한 값입니다. 종속변수의 분포를 정규화하기 위함입니다.\n",
    "  * **group** - 판매량과 판매단가의 특성을 고려해 설정한 상품의 그룹입니다. 추후 해당 그룹별로 모델링을 진행합니다.\n",
    "  * **unit_price_group** - 각 그룹별 판매단가의 정도입니다. 각 그룹 기준 33% 미만은 chaep, 33%이상 66%미만은 medium, 나머지는 expensive입니다.\n",
    "  \n",
    "  * **year** - 방송일시에서 파생된 변수입니다. 방송된 연도입니다. \n",
    "  * **month** - 방송일시에서 파생된 변수입니다. 방송된 월입니다\n",
    "  * **day** - 방송일시에서 파생된 변수입니다. 방송된 일자입니다\n",
    "  * **hour** - 방송일시에서 파생된 변수입니다. 방송된 시각입니다\n",
    "  * **minute** - 방송일시에서 파생된 변수입니다. 방송된 분입니다\n",
    "  * **weekday** - 방송일시에서 파생된 변수입니다. 방송된 요일입니다\n",
    "  * **holiday** - 공휴일입니다. 2019년 및 2020년 법정공휴일과 주말은 1, 나머지는 0입니다.\n",
    "  * **month_order** - 월초, 월중, 월말을 나타내는 변수입니다. \n",
    "  * **order_grp** - 같은 상품이 연속적으로 방송되었을 경우의 순서정보입니다. 방송일시와 마더코드를 기준으로 생성했습니다. 시작, 중간, 마지막으로 이루어져있습니다.\n",
    "  \n",
    "#### 외부변수\n",
    "  * **temp** - 방송된 시각의 기온(°C)입니다. \n",
    "  * **rainfall** - 방송된 시각의 강수량(mm)입니다. \n",
    "  * **wind_speed** - 방송된 시각의 풍속(m/s)입니다.\n",
    "  * **wind_direction** - 방송된 시각의 풍향(16방위)입니다.\n",
    "  * **humidity** - 방송된 시각의 습도(%)입니다.\n",
    "  * **pressure** - 방송된 시각의 증기압(hPa)입니다.\n",
    "  * **spot_pressure** - 방송된 시각의 현지기압(hPa)입니다..\n",
    "  * **sea_level_pressure** - 방송된 시각의 해면기압(hPa)입니다.\n",
    "  * **snowfall** - 방송된 시각의 적설량(cm)입니다.\n",
    "  \n",
    "  * **cpi** - 방송된 월의 소비자 물가지수입니다.\n",
    "  * **csi** - 방송된 월의 소비자 동향지수입니다.\n",
    "  \n",
    "  \n",
    "#### 외부변수 출처\n",
    "기상자료개방포털 : [https://data.kma.go.kr/cmmn/main.do](https://data.kma.go.kr/cmmn/main.do)<br>\n",
    "통계청 : [http://kostat.go.kr/portal/korea/index.action](http://kostat.go.kr/portal/korea/index.action)"
   ]
  },
  {
   "cell_type": "code",
   "execution_count": 5,
   "metadata": {
    "scrolled": true
   },
   "outputs": [
    {
     "data": {
      "text/html": [
       "<div>\n",
       "<style scoped>\n",
       "    .dataframe tbody tr th:only-of-type {\n",
       "        vertical-align: middle;\n",
       "    }\n",
       "\n",
       "    .dataframe tbody tr th {\n",
       "        vertical-align: top;\n",
       "    }\n",
       "\n",
       "    .dataframe thead th {\n",
       "        text-align: right;\n",
       "    }\n",
       "</style>\n",
       "<table border=\"1\" class=\"dataframe\">\n",
       "  <thead>\n",
       "    <tr style=\"text-align: right;\">\n",
       "      <th></th>\n",
       "      <th>datetime</th>\n",
       "      <th>year</th>\n",
       "      <th>month</th>\n",
       "      <th>day</th>\n",
       "      <th>hour</th>\n",
       "      <th>minute</th>\n",
       "      <th>weekday</th>\n",
       "      <th>holiday</th>\n",
       "      <th>month_order</th>\n",
       "      <th>order_grp</th>\n",
       "      <th>exposure(min)</th>\n",
       "      <th>mother_cd</th>\n",
       "      <th>product_cd</th>\n",
       "      <th>product_name</th>\n",
       "      <th>product_grp</th>\n",
       "      <th>temp</th>\n",
       "      <th>rainfall</th>\n",
       "      <th>wind_speed</th>\n",
       "      <th>wind_direction</th>\n",
       "      <th>humidity</th>\n",
       "      <th>pressure</th>\n",
       "      <th>spot_pressure</th>\n",
       "      <th>sea_level_pressure</th>\n",
       "      <th>snowfall</th>\n",
       "      <th>unit_price</th>\n",
       "      <th>sell_price</th>\n",
       "      <th>sales_cnt</th>\n",
       "      <th>group</th>\n",
       "      <th>unit_price_group</th>\n",
       "      <th>cpi</th>\n",
       "      <th>csi</th>\n",
       "      <th>log_sales_cnt</th>\n",
       "    </tr>\n",
       "  </thead>\n",
       "  <tbody>\n",
       "    <tr>\n",
       "      <th>0</th>\n",
       "      <td>2019-01-01 06:00:00</td>\n",
       "      <td>2019</td>\n",
       "      <td>1</td>\n",
       "      <td>1</td>\n",
       "      <td>6</td>\n",
       "      <td>0</td>\n",
       "      <td>Tuesday</td>\n",
       "      <td>1</td>\n",
       "      <td>초</td>\n",
       "      <td>시작</td>\n",
       "      <td>20.0</td>\n",
       "      <td>100346</td>\n",
       "      <td>201072</td>\n",
       "      <td>테이트 남성 셀린니트3종</td>\n",
       "      <td>의류</td>\n",
       "      <td>-7.9</td>\n",
       "      <td>0.0</td>\n",
       "      <td>1.3</td>\n",
       "      <td>290.0</td>\n",
       "      <td>60.0</td>\n",
       "      <td>2.0</td>\n",
       "      <td>1023.6</td>\n",
       "      <td>1034.9</td>\n",
       "      <td>0.0</td>\n",
       "      <td>39900.0</td>\n",
       "      <td>2099000.0</td>\n",
       "      <td>52.606516</td>\n",
       "      <td>group4</td>\n",
       "      <td>cheap</td>\n",
       "      <td>100.8</td>\n",
       "      <td>97.5</td>\n",
       "      <td>3.962840</td>\n",
       "    </tr>\n",
       "    <tr>\n",
       "      <th>1</th>\n",
       "      <td>2019-01-01 06:00:00</td>\n",
       "      <td>2019</td>\n",
       "      <td>1</td>\n",
       "      <td>1</td>\n",
       "      <td>6</td>\n",
       "      <td>0</td>\n",
       "      <td>Tuesday</td>\n",
       "      <td>1</td>\n",
       "      <td>초</td>\n",
       "      <td>시작</td>\n",
       "      <td>20.0</td>\n",
       "      <td>100346</td>\n",
       "      <td>201079</td>\n",
       "      <td>테이트 여성 셀린니트3종</td>\n",
       "      <td>의류</td>\n",
       "      <td>-7.9</td>\n",
       "      <td>0.0</td>\n",
       "      <td>1.3</td>\n",
       "      <td>290.0</td>\n",
       "      <td>60.0</td>\n",
       "      <td>2.0</td>\n",
       "      <td>1023.6</td>\n",
       "      <td>1034.9</td>\n",
       "      <td>0.0</td>\n",
       "      <td>39900.0</td>\n",
       "      <td>4371000.0</td>\n",
       "      <td>109.548872</td>\n",
       "      <td>group4</td>\n",
       "      <td>cheap</td>\n",
       "      <td>100.8</td>\n",
       "      <td>97.5</td>\n",
       "      <td>4.696371</td>\n",
       "    </tr>\n",
       "    <tr>\n",
       "      <th>2</th>\n",
       "      <td>2019-01-01 06:20:00</td>\n",
       "      <td>2019</td>\n",
       "      <td>1</td>\n",
       "      <td>1</td>\n",
       "      <td>6</td>\n",
       "      <td>20</td>\n",
       "      <td>Tuesday</td>\n",
       "      <td>1</td>\n",
       "      <td>초</td>\n",
       "      <td>중간</td>\n",
       "      <td>20.0</td>\n",
       "      <td>100346</td>\n",
       "      <td>201072</td>\n",
       "      <td>테이트 남성 셀린니트3종</td>\n",
       "      <td>의류</td>\n",
       "      <td>-7.9</td>\n",
       "      <td>0.0</td>\n",
       "      <td>1.3</td>\n",
       "      <td>290.0</td>\n",
       "      <td>60.0</td>\n",
       "      <td>2.0</td>\n",
       "      <td>1023.6</td>\n",
       "      <td>1034.9</td>\n",
       "      <td>0.0</td>\n",
       "      <td>39900.0</td>\n",
       "      <td>3262000.0</td>\n",
       "      <td>81.754386</td>\n",
       "      <td>group4</td>\n",
       "      <td>cheap</td>\n",
       "      <td>100.8</td>\n",
       "      <td>97.5</td>\n",
       "      <td>4.403719</td>\n",
       "    </tr>\n",
       "    <tr>\n",
       "      <th>3</th>\n",
       "      <td>2019-01-01 06:20:00</td>\n",
       "      <td>2019</td>\n",
       "      <td>1</td>\n",
       "      <td>1</td>\n",
       "      <td>6</td>\n",
       "      <td>20</td>\n",
       "      <td>Tuesday</td>\n",
       "      <td>1</td>\n",
       "      <td>초</td>\n",
       "      <td>중간</td>\n",
       "      <td>20.0</td>\n",
       "      <td>100346</td>\n",
       "      <td>201079</td>\n",
       "      <td>테이트 여성 셀린니트3종</td>\n",
       "      <td>의류</td>\n",
       "      <td>-7.9</td>\n",
       "      <td>0.0</td>\n",
       "      <td>1.3</td>\n",
       "      <td>290.0</td>\n",
       "      <td>60.0</td>\n",
       "      <td>2.0</td>\n",
       "      <td>1023.6</td>\n",
       "      <td>1034.9</td>\n",
       "      <td>0.0</td>\n",
       "      <td>39900.0</td>\n",
       "      <td>6955000.0</td>\n",
       "      <td>174.310777</td>\n",
       "      <td>group4</td>\n",
       "      <td>cheap</td>\n",
       "      <td>100.8</td>\n",
       "      <td>97.5</td>\n",
       "      <td>5.160840</td>\n",
       "    </tr>\n",
       "    <tr>\n",
       "      <th>4</th>\n",
       "      <td>2019-01-01 06:40:00</td>\n",
       "      <td>2019</td>\n",
       "      <td>1</td>\n",
       "      <td>1</td>\n",
       "      <td>6</td>\n",
       "      <td>40</td>\n",
       "      <td>Tuesday</td>\n",
       "      <td>1</td>\n",
       "      <td>초</td>\n",
       "      <td>마지막</td>\n",
       "      <td>20.0</td>\n",
       "      <td>100346</td>\n",
       "      <td>201072</td>\n",
       "      <td>테이트 남성 셀린니트3종</td>\n",
       "      <td>의류</td>\n",
       "      <td>-7.9</td>\n",
       "      <td>0.0</td>\n",
       "      <td>1.3</td>\n",
       "      <td>290.0</td>\n",
       "      <td>60.0</td>\n",
       "      <td>2.0</td>\n",
       "      <td>1023.6</td>\n",
       "      <td>1034.9</td>\n",
       "      <td>0.0</td>\n",
       "      <td>39900.0</td>\n",
       "      <td>6672000.0</td>\n",
       "      <td>167.218045</td>\n",
       "      <td>group4</td>\n",
       "      <td>cheap</td>\n",
       "      <td>100.8</td>\n",
       "      <td>97.5</td>\n",
       "      <td>5.119299</td>\n",
       "    </tr>\n",
       "  </tbody>\n",
       "</table>\n",
       "</div>"
      ],
      "text/plain": [
       "             datetime  year  month  day  hour  minute  weekday  holiday  \\\n",
       "0 2019-01-01 06:00:00  2019      1    1     6       0  Tuesday        1   \n",
       "1 2019-01-01 06:00:00  2019      1    1     6       0  Tuesday        1   \n",
       "2 2019-01-01 06:20:00  2019      1    1     6      20  Tuesday        1   \n",
       "3 2019-01-01 06:20:00  2019      1    1     6      20  Tuesday        1   \n",
       "4 2019-01-01 06:40:00  2019      1    1     6      40  Tuesday        1   \n",
       "\n",
       "  month_order order_grp  exposure(min)  mother_cd  product_cd   product_name  \\\n",
       "0           초        시작           20.0     100346      201072  테이트 남성 셀린니트3종   \n",
       "1           초        시작           20.0     100346      201079  테이트 여성 셀린니트3종   \n",
       "2           초        중간           20.0     100346      201072  테이트 남성 셀린니트3종   \n",
       "3           초        중간           20.0     100346      201079  테이트 여성 셀린니트3종   \n",
       "4           초       마지막           20.0     100346      201072  테이트 남성 셀린니트3종   \n",
       "\n",
       "  product_grp  temp  rainfall  wind_speed  wind_direction  humidity  pressure  \\\n",
       "0          의류  -7.9       0.0         1.3           290.0      60.0       2.0   \n",
       "1          의류  -7.9       0.0         1.3           290.0      60.0       2.0   \n",
       "2          의류  -7.9       0.0         1.3           290.0      60.0       2.0   \n",
       "3          의류  -7.9       0.0         1.3           290.0      60.0       2.0   \n",
       "4          의류  -7.9       0.0         1.3           290.0      60.0       2.0   \n",
       "\n",
       "   spot_pressure  sea_level_pressure  snowfall  unit_price  sell_price  \\\n",
       "0         1023.6              1034.9       0.0     39900.0   2099000.0   \n",
       "1         1023.6              1034.9       0.0     39900.0   4371000.0   \n",
       "2         1023.6              1034.9       0.0     39900.0   3262000.0   \n",
       "3         1023.6              1034.9       0.0     39900.0   6955000.0   \n",
       "4         1023.6              1034.9       0.0     39900.0   6672000.0   \n",
       "\n",
       "    sales_cnt   group unit_price_group    cpi   csi  log_sales_cnt  \n",
       "0   52.606516  group4            cheap  100.8  97.5       3.962840  \n",
       "1  109.548872  group4            cheap  100.8  97.5       4.696371  \n",
       "2   81.754386  group4            cheap  100.8  97.5       4.403719  \n",
       "3  174.310777  group4            cheap  100.8  97.5       5.160840  \n",
       "4  167.218045  group4            cheap  100.8  97.5       5.119299  "
      ]
     },
     "execution_count": 5,
     "metadata": {},
     "output_type": "execute_result"
    }
   ],
   "source": [
    "df_train.head()"
   ]
  },
  {
   "cell_type": "markdown",
   "metadata": {},
   "source": [
    "추후의 모델링을 위해 범주형변수의 형식을 'category'로 변경해줍니다."
   ]
  },
  {
   "cell_type": "code",
   "execution_count": 6,
   "metadata": {},
   "outputs": [],
   "source": [
    "col = ['month','weekday','month_order','order_grp','product_grp','unit_price_group']"
   ]
  },
  {
   "cell_type": "code",
   "execution_count": 7,
   "metadata": {},
   "outputs": [],
   "source": [
    "for i in col : \n",
    "    df_train[i] = df_train[i].astype('category') \n",
    "    df_test[i] = df_test[i].astype('category')"
   ]
  },
  {
   "cell_type": "markdown",
   "metadata": {},
   "source": [
    "## EDA\n",
    "\n",
    "변수별 EDA 자료와 코드는 첨부된 ipynb파일에 있으며, 주요 내용은 결과보고서에 시각화 자료를 첨부합니다.\n",
    "\n",
    "\n",
    "#### 예시"
   ]
  },
  {
   "cell_type": "code",
   "execution_count": 8,
   "metadata": {},
   "outputs": [
    {
     "data": {
      "image/png": "[encoded data removed]",
      "text/plain": [
       "<Figure size 1296x288 with 2 Axes>"
      ]
     },
     "metadata": {
      "needs_background": "light"
     },
     "output_type": "display_data"
    }
   ],
   "source": [
    "fig, (ax1, ax2) = plt.subplots(nrows=1, ncols=2)\n",
    "fig.set_size_inches(18,4)\n",
    "sns.boxplot(data=df_train[df_train.product_grp=='가전'], x='month', y='log_sales_cnt', ax=ax1).set_title('가전') \n",
    "sns.boxplot(data=df_train[df_train.product_grp=='의류'], x='month', y='log_sales_cnt', ax=ax2).set_title('의류') \n",
    "plt.show()"
   ]
  },
  {
   "cell_type": "markdown",
   "metadata": {},
   "source": [
    "* EDA_weather.ipynb\n",
    "* EDA_time.ipynb\n",
    "* EDA_Group.ipynb\n",
    "* EDA_all.ipynb"
   ]
  },
  {
   "cell_type": "markdown",
   "metadata": {},
   "source": [
    "## Variable Selection and Grouping\n",
    "\n",
    "변수선택과 Grouping, 범주형변수 더미화는 `spliting.py`로 처리했습니다. 해당 클래스의 `return_g`라는 함수는 전처리된 데이터프레임 `df_train`을 받아 정해진 변수에 대해 Grouping과 더미화를 하고 네 개의 데이터프레임을 출력합니다.\n",
    "\n",
    "#### Variable Selection\n",
    "EDA를 통해 선택된 유의미한 변수는 다음과 같습니다.\n",
    "\n",
    "`month`, `hour`, `minute`, `weekday`, `holiday`, `month_order`, `order_grp`, `exposure(min)`, `mother_cd`, `product_grp`, `temp`, `humidity`, `unit_price`, `unit_price_group`, `cpi`, `csi`  \n",
    "<br>\n",
    "학습에 사용될 종속변수는 `log_sales_cnt`입니다.\n",
    "\n",
    "#### Grouping\n",
    "그룹은 모델의 성능 상승을 위해 생성했습니다. 상품군 별 판매량과 판매단가의 분포를 확인하고 각 상품군 간 상관관계를 고려하여 그룹을 만들었습니다. 해당 그룹별로 약간의 변수 조정이 있을 수 있으며 추후 다른 모델이 각각 적용될 수 있습니다.\n",
    " * Group 1 : 가구, 가전<br>\n",
    " * Group 2 : 농수축, 이미용<br>\n",
    " * Group 3 : 생활용품, 주방, 잡화<br>\n",
    " * Group 4 : 건강기능, 속옷, 의류, 침구<br><br>\n",
    " \n",
    "그룹 구성에 관련한 분포 시각화 및 상관관계 정보는 별도의 파일로 첨부합니다.\n",
    " * Grouping.ipynb"
   ]
  },
  {
   "cell_type": "code",
   "execution_count": 9,
   "metadata": {},
   "outputs": [],
   "source": [
    "Spliting = split.Spliting()\n",
    "g1, g2, g3, g4 = Spliting.return_g(df_train)"
   ]
  },
  {
   "cell_type": "code",
   "execution_count": 10,
   "metadata": {},
   "outputs": [
    {
     "name": "stdout",
     "output_type": "stream",
     "text": [
      "(7465, 30)\n",
      "(5189, 17)\n",
      "(13034, 17)\n",
      "(9691, 17)\n"
     ]
    }
   ],
   "source": [
    "print(g1.shape) #group1\n",
    "print(g2.shape) #group2\n",
    "print(g3.shape) #group3\n",
    "print(g4.shape) #group4"
   ]
  },
  {
   "cell_type": "markdown",
   "metadata": {},
   "source": [
    "## Train Test Split\n",
    "\n",
    "각 그룹별 모델링을 진행하기 위해 X와 y로 변수를 나눠주고, 각각을 Train Set과 Test Set으로 나눠줍니다."
   ]
  },
  {
   "cell_type": "code",
   "execution_count": 11,
   "metadata": {},
   "outputs": [],
   "source": [
    "X1, y1 = g1.drop('log_sales_cnt', axis=1), g1['log_sales_cnt']\n",
    "X2, y2 = g2.drop('log_sales_cnt', axis=1), g2['log_sales_cnt']\n",
    "X3, y3 = g3.drop('log_sales_cnt', axis=1), g3['log_sales_cnt']\n",
    "X4, y4 = g4.drop('log_sales_cnt', axis=1), g4['log_sales_cnt']"
   ]
  },
  {
   "cell_type": "code",
   "execution_count": 12,
   "metadata": {},
   "outputs": [],
   "source": [
    "X1_train, X1_test, y1_train, y1_test = train_test_split(X1, y1, test_size=0.3, random_state=42)\n",
    "X2_train, X2_test, y2_train, y2_test = train_test_split(X2, y2, test_size=0.3, random_state=42)\n",
    "X3_train, X3_test, y3_train, y3_test = train_test_split(X3, y3, test_size=0.3, random_state=42)\n",
    "X4_train, X4_test, y4_train, y4_test = train_test_split(X4, y4, test_size=0.3, random_state=42)"
   ]
  },
  {
   "cell_type": "code",
   "execution_count": 13,
   "metadata": {},
   "outputs": [
    {
     "name": "stdout",
     "output_type": "stream",
     "text": [
      "(5225, 29) (5225,) (2240, 29) (2240,)\n",
      "(3632, 16) (3632,) (1557, 16) (1557,)\n",
      "(9123, 16) (9123,) (3911, 16) (3911,)\n",
      "(6783, 16) (6783,) (2908, 16) (2908,)\n"
     ]
    }
   ],
   "source": [
    "print(X1_train.shape, y1_train.shape, X1_test.shape, y1_test.shape)\n",
    "print(X2_train.shape, y2_train.shape, X2_test.shape, y2_test.shape)\n",
    "print(X3_train.shape, y3_train.shape, X3_test.shape, y3_test.shape)\n",
    "print(X4_train.shape, y4_train.shape, X4_test.shape, y4_test.shape)"
   ]
  },
  {
   "cell_type": "markdown",
   "metadata": {},
   "source": [
    "## Modeling\n",
    "\n",
    "모델링은 각 그룹별로 여러 개의 머신러닝 및 딥러닝 기법을 시도하여 Best Score를 갖는 모델을 채택했습니다.<br><br>\n",
    "시도한 모델은 다음과 같습니다.\n",
    "\n",
    " * Linear Regression\n",
    " * Ridge/Lasso Regression\n",
    " * Support Vector Regression\n",
    " * Decesion Tree\n",
    " * RandomForest\n",
    " * XGBoost\n",
    " * LightGBM\n",
    " * CatBoost\n",
    " * LSTM/GRU\n",
    " \n",
    "<br>\n",
    "\n",
    "위의 모델을 모두 적합하여 Competition을 시도하고, Best Model에 대해서 Hyperparameter Tuning을 진행합니다. Hyperparameter Tuning은 Bayesian Optimization을 활용합니다. Bayesian Optimization은 기존의 GridSearch 등의 방법에 비해 광범위한 탐색이 가능하고 탐색 시간이 적게 걸린다는 장점이 있습니다.\n",
    "<br>\n",
    "\n",
    "**최종적으로 선택된 모델은 LightGBM과 CatBoost입니다.** Tuning을 완료한 두 모델 중 MAPE가 더 낮은 모델을 채택합니다."
   ]
  },
  {
   "cell_type": "markdown",
   "metadata": {},
   "source": [
    "### Group 1\n",
    "group1에서는 product_name을 기반으로 상품의 정보를 가진 범주형자료를 추가로 생성했습니다. (`spliting.py` 참조) "
   ]
  },
  {
   "cell_type": "code",
   "execution_count": 14,
   "metadata": {},
   "outputs": [
    {
     "data": {
      "text/plain": [
       "LGBMRegressor(boosting='gbdt', boosting_type='gbdt', class_weight=None,\n",
       "              colsample_bytree=1.0, importance_type='split',\n",
       "              learning_rate=0.037364295588117914, max_depth=8,\n",
       "              min_child_samples=2, min_child_weight=0.001, min_split_gain=0.0,\n",
       "              n_estimators=628, n_jobs=-1, num_leaves=34,\n",
       "              objective='regression', random_state=None, reg_alpha=0.0,\n",
       "              reg_lambda=0.0, silent=True, subsample=1.0,\n",
       "              subsample_for_bin=200000, subsample_freq=0)"
      ]
     },
     "execution_count": 14,
     "metadata": {},
     "output_type": "execute_result"
    }
   ],
   "source": [
    "lgb_1 = lgb.LGBMRegressor(objective = 'regression', \n",
    "                              boosting = 'gbdt',\n",
    "                              num_leaves = 34,\n",
    "                              learning_rate = 0.037364295588117914,\n",
    "                              n_estimators = 628, \n",
    "                              max_depth = 8,\n",
    "                              min_child_samples = 2\n",
    "                              \n",
    "                              )\n",
    "lgb_1.fit(X1_train, y1_train)"
   ]
  },
  {
   "cell_type": "code",
   "execution_count": 15,
   "metadata": {},
   "outputs": [
    {
     "name": "stdout",
     "output_type": "stream",
     "text": [
      "0:\tlearn: 1.0586466\ttotal: 101ms\tremaining: 55.6s\n",
      "100:\tlearn: 0.6810487\ttotal: 3.67s\tremaining: 16.3s\n",
      "200:\tlearn: 0.5765618\ttotal: 8.37s\tremaining: 14.5s\n",
      "300:\tlearn: 0.5122182\ttotal: 14.4s\tremaining: 11.9s\n",
      "400:\tlearn: 0.4817736\ttotal: 20.9s\tremaining: 7.75s\n",
      "500:\tlearn: 0.4593594\ttotal: 25.9s\tremaining: 2.53s\n",
      "549:\tlearn: 0.4511602\ttotal: 28.5s\tremaining: 0us\n"
     ]
    },
    {
     "data": {
      "text/plain": [
       "<catboost.core.CatBoostRegressor at 0x2ce79f56308>"
      ]
     },
     "execution_count": 15,
     "metadata": {},
     "output_type": "execute_result"
    }
   ],
   "source": [
    "cat_1 = catboost.CatBoostRegressor(iterations=550,\n",
    "                          learning_rate=0.06284952600628144,\n",
    "                          depth=7,\n",
    "                          #l2_leaf_reg=10,\n",
    "                          #border_count=200,\n",
    "                          metric_period=100,\n",
    "                         random_strength=10,\n",
    "                         #bagging_temperature=5,\n",
    "                          #min_data_in_leaf=17,\n",
    "                        bootstrap_type='MVS',\n",
    "                        cat_features=['month','weekday','month_order','order_grp','product_grp','unit_price_group']\n",
    "                                    \n",
    "                      )\n",
    "\n",
    "cat_1.fit(X1_train, y1_train)"
   ]
  },
  {
   "cell_type": "code",
   "execution_count": 16,
   "metadata": {},
   "outputs": [
    {
     "name": "stdout",
     "output_type": "stream",
     "text": [
      "MSE : 119.59767321308625\n",
      "R squared : 0.8188207740487261\n",
      "MAPE : 47.601250468524654\n"
     ]
    }
   ],
   "source": [
    "y1_pred = lgb_1.predict(X1_test)\n",
    "\n",
    "print (\"MSE :\", metrics.mean_squared_error(np.exp(y1_test), np.exp(y1_pred)))\n",
    "print(\"R squared :\", metrics.r2_score(np.exp(y1_test), np.exp(y1_pred)))\n",
    "print(\"MAPE :\", mean_absolute_percentage_error(np.exp(y1_test), np.exp(y1_pred)))"
   ]
  },
  {
   "cell_type": "code",
   "execution_count": 17,
   "metadata": {},
   "outputs": [
    {
     "name": "stdout",
     "output_type": "stream",
     "text": [
      "MSE : 145.77788428063494\n",
      "R2 : 0.7791602167065417\n",
      "MAPE : 49.86454955211798\n"
     ]
    }
   ],
   "source": [
    "c_y1_pred = cat_1.predict(X1_test)\n",
    "\n",
    "print (\"MSE :\", metrics.mean_squared_error(np.exp(y1_test), np.exp(c_y1_pred)))\n",
    "print(\"R2 :\", metrics.r2_score(np.exp(y1_test), np.exp(c_y1_pred)))\n",
    "print(\"MAPE :\", mean_absolute_percentage_error(np.exp(y1_test), np.exp(c_y1_pred)))"
   ]
  },
  {
   "cell_type": "markdown",
   "metadata": {},
   "source": [
    "### Group 2"
   ]
  },
  {
   "cell_type": "code",
   "execution_count": 18,
   "metadata": {},
   "outputs": [
    {
     "data": {
      "text/plain": [
       "LGBMRegressor(boosting='gbdt', boosting_type='gbdt', class_weight=None,\n",
       "              colsample_bytree=1.0, importance_type='split',\n",
       "              learning_rate=0.0696742599118784, max_depth=3,\n",
       "              min_child_samples=1, min_child_weight=0.001, min_split_gain=0.0,\n",
       "              n_estimators=1758, n_jobs=-1, num_leaves=7,\n",
       "              objective='regression', random_state=None, reg_alpha=0.0,\n",
       "              reg_lambda=0.0, silent=True, subsample=1.0,\n",
       "              subsample_for_bin=200000, subsample_freq=0)"
      ]
     },
     "execution_count": 18,
     "metadata": {},
     "output_type": "execute_result"
    }
   ],
   "source": [
    "lgb_2 = lgb.LGBMRegressor(objective = 'regression', \n",
    "                              boosting = 'gbdt',\n",
    "                              num_leaves = 7,\n",
    "                              learning_rate = 0.0696742599118784,\n",
    "                              n_estimators = 1758, \n",
    "                              max_depth = 3,\n",
    "                              min_child_samples = 1)\n",
    "lgb_2.fit(X2_train, y2_train)"
   ]
  },
  {
   "cell_type": "code",
   "execution_count": 19,
   "metadata": {},
   "outputs": [
    {
     "name": "stdout",
     "output_type": "stream",
     "text": [
      "0:\tlearn: 0.6658277\ttotal: 69.5ms\tremaining: 1m 27s\n",
      "100:\tlearn: 0.3875148\ttotal: 4.83s\tremaining: 55.7s\n",
      "200:\tlearn: 0.2886083\ttotal: 12.2s\tremaining: 1m 4s\n",
      "300:\tlearn: 0.2435474\ttotal: 20.3s\tremaining: 1m 5s\n",
      "400:\tlearn: 0.2140495\ttotal: 28.4s\tremaining: 1m 1s\n",
      "500:\tlearn: 0.1898968\ttotal: 34.6s\tremaining: 52.9s\n",
      "600:\tlearn: 0.1683331\ttotal: 41.4s\tremaining: 45.9s\n",
      "700:\tlearn: 0.1532368\ttotal: 48.2s\tremaining: 38.9s\n",
      "800:\tlearn: 0.1386578\ttotal: 55s\tremaining: 32s\n",
      "900:\tlearn: 0.1270219\ttotal: 1m 1s\tremaining: 25.2s\n",
      "1000:\tlearn: 0.1152337\ttotal: 1m 8s\tremaining: 18.3s\n",
      "1100:\tlearn: 0.1065285\ttotal: 1m 15s\tremaining: 11.3s\n",
      "1200:\tlearn: 0.0983698\ttotal: 1m 21s\tremaining: 4.48s\n",
      "1266:\tlearn: 0.0929308\ttotal: 1m 25s\tremaining: 0us\n"
     ]
    },
    {
     "data": {
      "text/plain": [
       "<catboost.core.CatBoostRegressor at 0x2ce79f41b48>"
      ]
     },
     "execution_count": 19,
     "metadata": {},
     "output_type": "execute_result"
    }
   ],
   "source": [
    "cat_2 = catboost.CatBoostRegressor(iterations=1267,\n",
    "                          learning_rate=0.12,\n",
    "                          depth=8,\n",
    "                          #l2_leaf_reg=1,\n",
    "                          #border_count=128,\n",
    "                          metric_period=100,\n",
    "                          random_strength=10,\n",
    "                         #random_strength=2,\n",
    "                         #bagging_temperature=5,\n",
    "                         # min_data_in_leaf=10,\n",
    "                        bootstrap_type='MVS',\n",
    "                        cat_features=['month','weekday','month_order','order_grp','product_grp','unit_price_group']\n",
    "                      )\n",
    "\n",
    "cat_2.fit(X2_train, y2_train)"
   ]
  },
  {
   "cell_type": "code",
   "execution_count": 20,
   "metadata": {},
   "outputs": [
    {
     "name": "stdout",
     "output_type": "stream",
     "text": [
      "MSE : 78646.67834475236\n",
      "R squared : 0.7222357760364031\n",
      "MAPE : 25.046658865084666\n"
     ]
    }
   ],
   "source": [
    "y2_pred = lgb_2.predict(X2_test)\n",
    "\n",
    "print (\"MSE :\", metrics.mean_squared_error(np.exp(y2_test), np.exp(y2_pred)))\n",
    "print(\"R squared :\", metrics.r2_score(np.exp(y2_test), np.exp(y2_pred)))\n",
    "print(\"MAPE :\", mean_absolute_percentage_error(np.exp(y2_test), np.exp(y2_pred)))"
   ]
  },
  {
   "cell_type": "code",
   "execution_count": 21,
   "metadata": {},
   "outputs": [
    {
     "name": "stdout",
     "output_type": "stream",
     "text": [
      "MSE : 86458.5252119257\n",
      "R2 : 0.6946459066553825\n",
      "MAPE : 28.010162577867494\n"
     ]
    }
   ],
   "source": [
    "c_y2_pred = cat_2.predict(X2_test)\n",
    "\n",
    "print (\"MSE :\", metrics.mean_squared_error(np.exp(y2_test), np.exp(c_y2_pred)))\n",
    "print(\"R2 :\", metrics.r2_score(np.exp(y2_test), np.exp(c_y2_pred)))\n",
    "print(\"MAPE :\", mean_absolute_percentage_error(np.exp(y2_test), np.exp(c_y2_pred)))"
   ]
  },
  {
   "cell_type": "markdown",
   "metadata": {},
   "source": [
    "### Group 3"
   ]
  },
  {
   "cell_type": "code",
   "execution_count": 22,
   "metadata": {},
   "outputs": [
    {
     "data": {
      "text/plain": [
       "LGBMRegressor(boosting='gbdt', boosting_type='gbdt', class_weight=None,\n",
       "              colsample_bytree=1.0, importance_type='split',\n",
       "              learning_rate=0.14614985142123815, max_depth=10,\n",
       "              min_child_samples=4, min_child_weight=0.001, min_split_gain=0.0,\n",
       "              n_estimators=1267, n_jobs=-1, num_leaves=9,\n",
       "              objective='regression', random_state=None, reg_alpha=0.0,\n",
       "              reg_lambda=0.0, silent=True, subsample=1.0,\n",
       "              subsample_for_bin=200000, subsample_freq=0)"
      ]
     },
     "execution_count": 22,
     "metadata": {},
     "output_type": "execute_result"
    }
   ],
   "source": [
    "lgb_3 = lgb.LGBMRegressor(objective = 'regression', \n",
    "                              boosting = 'gbdt',\n",
    "                              num_leaves = 9 ,\n",
    "                              learning_rate = 0.14614985142123815,\n",
    "                              n_estimators = 1267, \n",
    "                              max_depth = 10,\n",
    "                              min_child_samples = 4\n",
    "                              )\n",
    "lgb_3.fit(X3_train, y3_train)"
   ]
  },
  {
   "cell_type": "code",
   "execution_count": 23,
   "metadata": {},
   "outputs": [
    {
     "name": "stdout",
     "output_type": "stream",
     "text": [
      "0:\tlearn: 1.3754663\ttotal: 67ms\tremaining: 1m 24s\n",
      "100:\tlearn: 0.6809094\ttotal: 5.82s\tremaining: 1m 7s\n",
      "200:\tlearn: 0.5077331\ttotal: 14.2s\tremaining: 1m 15s\n",
      "300:\tlearn: 0.4576643\ttotal: 21.9s\tremaining: 1m 10s\n",
      "400:\tlearn: 0.4176691\ttotal: 29.9s\tremaining: 1m 4s\n",
      "500:\tlearn: 0.3912500\ttotal: 37.7s\tremaining: 57.7s\n",
      "600:\tlearn: 0.3677062\ttotal: 46.1s\tremaining: 51.1s\n",
      "700:\tlearn: 0.3478290\ttotal: 53.6s\tremaining: 43.3s\n",
      "800:\tlearn: 0.3314987\ttotal: 1m 1s\tremaining: 35.8s\n",
      "900:\tlearn: 0.3163977\ttotal: 1m 9s\tremaining: 28.3s\n",
      "1000:\tlearn: 0.3033240\ttotal: 1m 17s\tremaining: 20.7s\n",
      "1100:\tlearn: 0.2916641\ttotal: 1m 25s\tremaining: 12.9s\n",
      "1200:\tlearn: 0.2807890\ttotal: 1m 33s\tremaining: 5.16s\n",
      "1266:\tlearn: 0.2735005\ttotal: 1m 39s\tremaining: 0us\n"
     ]
    },
    {
     "data": {
      "text/plain": [
       "<catboost.core.CatBoostRegressor at 0x2ce79faa1c8>"
      ]
     },
     "execution_count": 23,
     "metadata": {},
     "output_type": "execute_result"
    }
   ],
   "source": [
    "cat_3 = catboost.CatBoostRegressor(iterations=1267,\n",
    "                          learning_rate=0.12,\n",
    "                          depth=8,\n",
    "                          #l2_leaf_reg=1,\n",
    "                          #border_count=128,\n",
    "                          metric_period=100,\n",
    "                          random_strength=10,\n",
    "                         #random_strength=2,\n",
    "                         #bagging_temperature=5,\n",
    "                         # min_data_in_leaf=10,\n",
    "                        bootstrap_type='MVS',\n",
    "                        cat_features=['month','weekday','month_order','order_grp','product_grp','unit_price_group']\n",
    "                      )\n",
    "\n",
    "cat_3.fit(X3_train, y3_train)"
   ]
  },
  {
   "cell_type": "code",
   "execution_count": 24,
   "metadata": {},
   "outputs": [
    {
     "name": "stdout",
     "output_type": "stream",
     "text": [
      "MSE : 8183.669605829976\n",
      "R squared : 0.8896058604646335\n",
      "MAPE : 37.2300701699155\n"
     ]
    }
   ],
   "source": [
    "y3_pred = lgb_3.predict(X3_test)\n",
    "\n",
    "print (\"MSE :\", metrics.mean_squared_error(np.exp(y3_test), np.exp(y3_pred)))\n",
    "print(\"R squared :\", metrics.r2_score(np.exp(y3_test), np.exp(y3_pred)))\n",
    "print(\"MAPE :\", mean_absolute_percentage_error(np.exp(y3_test), np.exp(y3_pred)))"
   ]
  },
  {
   "cell_type": "code",
   "execution_count": 25,
   "metadata": {},
   "outputs": [
    {
     "name": "stdout",
     "output_type": "stream",
     "text": [
      "MSE : 9757.84594861511\n",
      "R2 : 0.868370907050227\n",
      "MAPE : 39.17829966588529\n"
     ]
    }
   ],
   "source": [
    "c_y3_pred = cat_3.predict(X3_test)\n",
    "\n",
    "print (\"MSE :\", metrics.mean_squared_error(np.exp(y3_test), np.exp(c_y3_pred)))\n",
    "print(\"R2 :\", metrics.r2_score(np.exp(y3_test), np.exp(c_y3_pred)))\n",
    "print(\"MAPE :\", mean_absolute_percentage_error(np.exp(y3_test), np.exp(c_y3_pred)))"
   ]
  },
  {
   "cell_type": "markdown",
   "metadata": {},
   "source": [
    "### Group 4"
   ]
  },
  {
   "cell_type": "code",
   "execution_count": 26,
   "metadata": {},
   "outputs": [
    {
     "data": {
      "text/plain": [
       "LGBMRegressor(boosting='gbdt', boosting_type='gbdt', class_weight=None,\n",
       "              colsample_bytree=1.0, importance_type='split',\n",
       "              learning_rate=0.10028998111921926, max_depth=4,\n",
       "              min_child_samples=8, min_child_weight=0.001, min_split_gain=0.0,\n",
       "              n_estimators=1343, n_jobs=-1, num_leaves=15,\n",
       "              objective='regression', random_state=None, reg_alpha=0.0,\n",
       "              reg_lambda=0.0, silent=True, subsample=1.0,\n",
       "              subsample_for_bin=200000, subsample_freq=0)"
      ]
     },
     "execution_count": 26,
     "metadata": {},
     "output_type": "execute_result"
    }
   ],
   "source": [
    "lgb_4 = lgb.LGBMRegressor(objective = 'regression', \n",
    "                              boosting = 'gbdt',\n",
    "                              num_leaves = 15,\n",
    "                              learning_rate = 0.10028998111921926,\n",
    "                              n_estimators = 1343, \n",
    "                              max_depth = 4,\n",
    "                              min_child_samples = 8\n",
    "                              )\n",
    "lgb_4.fit(X4_train, y4_train)"
   ]
  },
  {
   "cell_type": "code",
   "execution_count": 27,
   "metadata": {},
   "outputs": [
    {
     "name": "stdout",
     "output_type": "stream",
     "text": [
      "0:\tlearn: 1.0447061\ttotal: 9.78ms\tremaining: 5.37s\n",
      "100:\tlearn: 0.5279190\ttotal: 930ms\tremaining: 4.13s\n",
      "200:\tlearn: 0.4430236\ttotal: 1.88s\tremaining: 3.27s\n",
      "300:\tlearn: 0.4056186\ttotal: 2.82s\tremaining: 2.33s\n",
      "400:\tlearn: 0.3839089\ttotal: 3.79s\tremaining: 1.41s\n",
      "500:\tlearn: 0.3691760\ttotal: 4.73s\tremaining: 463ms\n",
      "549:\tlearn: 0.3636199\ttotal: 5.2s\tremaining: 0us\n"
     ]
    },
    {
     "data": {
      "text/plain": [
       "<catboost.core.CatBoostRegressor at 0x2ce79f4db08>"
      ]
     },
     "execution_count": 27,
     "metadata": {},
     "output_type": "execute_result"
    }
   ],
   "source": [
    "cat_4 = catboost.CatBoostRegressor(iterations=550,\n",
    "                          learning_rate=0.13609953538724062,\n",
    "                          depth=8,\n",
    "                          l2_leaf_reg=2,\n",
    "                          #border_count=128,\n",
    "                          metric_period=100,\n",
    "                         random_strength=10,\n",
    "                         bagging_temperature=5,\n",
    "                         # min_data_in_leaf=10,\n",
    "                        #bootstrap_type='Bayesian',\n",
    "                                    one_hot_max_size=200,\n",
    "                        cat_features=['month','weekday','month_order','order_grp','product_grp','unit_price_group']\n",
    "                      )\n",
    "\n",
    "cat_4.fit(X4_train, y4_train)"
   ]
  },
  {
   "cell_type": "code",
   "execution_count": 28,
   "metadata": {},
   "outputs": [
    {
     "name": "stdout",
     "output_type": "stream",
     "text": [
      "MSE : 25143.55990067856\n",
      "R squared : 0.7838379421976012\n",
      "MAPE : 45.40126325079951\n"
     ]
    }
   ],
   "source": [
    "y4_pred = lgb_4.predict(X4_test)\n",
    "\n",
    "print (\"MSE :\", metrics.mean_squared_error(np.exp(y4_test), np.exp(y4_pred)))\n",
    "print(\"R squared :\", metrics.r2_score(np.exp(y4_test), np.exp(y4_pred)))\n",
    "print(\"MAPE :\", mean_absolute_percentage_error(np.exp(y4_test), np.exp(y4_pred)))"
   ]
  },
  {
   "cell_type": "code",
   "execution_count": 29,
   "metadata": {
    "scrolled": true
   },
   "outputs": [
    {
     "name": "stdout",
     "output_type": "stream",
     "text": [
      "MSE : 28129.206106299753\n",
      "R2 : 0.7581700005765111\n",
      "MAPE : 49.310106671088505\n"
     ]
    }
   ],
   "source": [
    "c_y4_pred = cat_4.predict(X4_test)\n",
    "\n",
    "print (\"MSE :\", metrics.mean_squared_error(np.exp(y4_test), np.exp(c_y4_pred)))\n",
    "print(\"R2 :\", metrics.r2_score(np.exp(y4_test), np.exp(c_y4_pred)))\n",
    "print(\"MAPE :\", mean_absolute_percentage_error(np.exp(y4_test), np.exp(c_y4_pred)))"
   ]
  },
  {
   "cell_type": "markdown",
   "metadata": {},
   "source": [
    "## Prediction\n",
    "\n",
    "학습된 모델을 그룹별로 `df_test`에 적용해 판매량을 예측합니다. 예측한 판매량과 판매단가를 곱해주어 최종 예측값인 취급액을 도출합니다."
   ]
  },
  {
   "cell_type": "code",
   "execution_count": 30,
   "metadata": {},
   "outputs": [],
   "source": [
    "g1_test, g2_test, g3_test, g4_test = Spliting.return_g(df_test)"
   ]
  },
  {
   "cell_type": "code",
   "execution_count": 31,
   "metadata": {},
   "outputs": [],
   "source": [
    "#무형은 예측값으로 0을 넣기 위해 인덱싱을 해줍니다.\n",
    "g5_test = pd.DataFrame({'answer': np.repeat(0, 175)})\n",
    "g5_test.index = df_test[df_test.product_grp=='무형'].index"
   ]
  },
  {
   "cell_type": "code",
   "execution_count": 32,
   "metadata": {},
   "outputs": [],
   "source": [
    "g1_test = g1_test.drop('log_sales_cnt', axis=1) \n",
    "g2_test = g2_test.drop('log_sales_cnt', axis=1) \n",
    "g3_test = g3_test.drop('log_sales_cnt', axis=1)\n",
    "g4_test = g4_test.drop('log_sales_cnt', axis=1) "
   ]
  },
  {
   "cell_type": "code",
   "execution_count": 33,
   "metadata": {},
   "outputs": [],
   "source": [
    "g1_pred = lgb_1.predict(g1_test)\n",
    "g2_pred = lgb_2.predict(g2_test)\n",
    "g3_pred = lgb_3.predict(g3_test)\n",
    "g4_pred = lgb_4.predict(g4_test)"
   ]
  },
  {
   "cell_type": "code",
   "execution_count": 34,
   "metadata": {},
   "outputs": [],
   "source": [
    "g1_test['answer'] = np.exp(g1_pred)\n",
    "g2_test['answer'] = np.exp(g2_pred)\n",
    "g3_test['answer'] = np.exp(g3_pred)\n",
    "g4_test['answer'] = np.exp(g4_pred)"
   ]
  },
  {
   "cell_type": "code",
   "execution_count": 35,
   "metadata": {},
   "outputs": [],
   "source": [
    "final_answer = pd.concat([g1_test['answer'], g2_test['answer'], g3_test['answer'], g4_test['answer'], g5_test['answer']]).sort_index()"
   ]
  },
  {
   "cell_type": "code",
   "execution_count": 36,
   "metadata": {},
   "outputs": [],
   "source": [
    "df_test['answer'] = final_answer"
   ]
  },
  {
   "cell_type": "code",
   "execution_count": 37,
   "metadata": {},
   "outputs": [],
   "source": [
    "final_df = df_test[['datetime', 'exposure(min)', 'mother_cd', 'product_cd', 'product_name', 'product_grp', 'unit_price', 'answer']]"
   ]
  },
  {
   "cell_type": "code",
   "execution_count": 38,
   "metadata": {},
   "outputs": [],
   "source": [
    "#취급액 = 판매단가 X 판매량\n",
    "final_df['sell_price'] = final_df['unit_price'] * final_df['answer']"
   ]
  },
  {
   "cell_type": "code",
   "execution_count": 39,
   "metadata": {},
   "outputs": [
    {
     "data": {
      "text/html": [
       "<div>\n",
       "<style scoped>\n",
       "    .dataframe tbody tr th:only-of-type {\n",
       "        vertical-align: middle;\n",
       "    }\n",
       "\n",
       "    .dataframe tbody tr th {\n",
       "        vertical-align: top;\n",
       "    }\n",
       "\n",
       "    .dataframe thead th {\n",
       "        text-align: right;\n",
       "    }\n",
       "</style>\n",
       "<table border=\"1\" class=\"dataframe\">\n",
       "  <thead>\n",
       "    <tr style=\"text-align: right;\">\n",
       "      <th></th>\n",
       "      <th>datetime</th>\n",
       "      <th>exposure(min)</th>\n",
       "      <th>mother_cd</th>\n",
       "      <th>product_cd</th>\n",
       "      <th>product_name</th>\n",
       "      <th>product_grp</th>\n",
       "      <th>unit_price</th>\n",
       "      <th>answer</th>\n",
       "      <th>sell_price</th>\n",
       "    </tr>\n",
       "  </thead>\n",
       "  <tbody>\n",
       "    <tr>\n",
       "      <th>0</th>\n",
       "      <td>2020-06-01 06:20:00</td>\n",
       "      <td>20.0</td>\n",
       "      <td>100650</td>\n",
       "      <td>201971</td>\n",
       "      <td>잭필드 남성  반팔셔츠 4종</td>\n",
       "      <td>의류</td>\n",
       "      <td>59800.0</td>\n",
       "      <td>152.118531</td>\n",
       "      <td>9.096688e+06</td>\n",
       "    </tr>\n",
       "    <tr>\n",
       "      <th>1</th>\n",
       "      <td>2020-06-01 06:40:00</td>\n",
       "      <td>20.0</td>\n",
       "      <td>100650</td>\n",
       "      <td>201971</td>\n",
       "      <td>잭필드 남성  반팔셔츠 4종</td>\n",
       "      <td>의류</td>\n",
       "      <td>59800.0</td>\n",
       "      <td>252.262982</td>\n",
       "      <td>1.508533e+07</td>\n",
       "    </tr>\n",
       "    <tr>\n",
       "      <th>2</th>\n",
       "      <td>2020-06-01 07:00:00</td>\n",
       "      <td>20.0</td>\n",
       "      <td>100650</td>\n",
       "      <td>201971</td>\n",
       "      <td>잭필드 남성  반팔셔츠 4종</td>\n",
       "      <td>의류</td>\n",
       "      <td>59800.0</td>\n",
       "      <td>502.308370</td>\n",
       "      <td>3.003804e+07</td>\n",
       "    </tr>\n",
       "  </tbody>\n",
       "</table>\n",
       "</div>"
      ],
      "text/plain": [
       "             datetime  exposure(min)  mother_cd  product_cd     product_name  \\\n",
       "0 2020-06-01 06:20:00           20.0     100650      201971  잭필드 남성  반팔셔츠 4종   \n",
       "1 2020-06-01 06:40:00           20.0     100650      201971  잭필드 남성  반팔셔츠 4종   \n",
       "2 2020-06-01 07:00:00           20.0     100650      201971  잭필드 남성  반팔셔츠 4종   \n",
       "\n",
       "  product_grp  unit_price      answer    sell_price  \n",
       "0          의류     59800.0  152.118531  9.096688e+06  \n",
       "1          의류     59800.0  252.262982  1.508533e+07  \n",
       "2          의류     59800.0  502.308370  3.003804e+07  "
      ]
     },
     "execution_count": 39,
     "metadata": {},
     "output_type": "execute_result"
    }
   ],
   "source": [
    "final_df.head(3)"
   ]
  },
  {
   "cell_type": "code",
   "execution_count": 40,
   "metadata": {},
   "outputs": [],
   "source": [
    "#무형의 취급액은 0으로 통일\n",
    "final_df['sell_price'] = final_df.sell_price.fillna(0)"
   ]
  },
  {
   "cell_type": "code",
   "execution_count": 41,
   "metadata": {
    "scrolled": false
   },
   "outputs": [],
   "source": [
    "#최종결과 저장\n",
    "final_df.to_csv(data_submit_dir + '\\\\final_answer.csv', encoding='euc-kr', index=False)"
   ]
  },
  {
   "cell_type": "code",
   "execution_count": null,
   "metadata": {},
   "outputs": [],
   "source": []
  }
 ],
 "metadata": {
  "kernelspec": {
   "display_name": "Python 3",
   "language": "python",
   "name": "python3"
  },
  "language_info": {
   "codemirror_mode": {
    "name": "ipython",
    "version": 3
   },
   "file_extension": ".py",
   "mimetype": "text/x-python",
   "name": "python",
   "nbconvert_exporter": "python",
   "pygments_lexer": "ipython3",
   "version": "3.7.4"
  }
 },
 "nbformat": 4,
 "nbformat_minor": 4
}
